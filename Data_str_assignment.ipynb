{
 "cells": [
  {
   "cell_type": "markdown",
   "id": "26672f7d-721b-405b-aa56-da9b0b338ad5",
   "metadata": {},
   "source": [
    "# 1. Discuss string slicing and provide examples"
   ]
  },
  {
   "cell_type": "raw",
   "id": "ca40c349-9d08-40d7-a780-fb8f2acd5da8",
   "metadata": {},
   "source": [
    "String Slicing >>\n",
    "\n",
    ">-- String slicing refers to accessing a specific portion or a subset of a string with the original string remaining unaffected.\n",
    "\n",
    ">-- You can use the indexes of string characters to create string slices as per the following syntax:\n",
    "\n",
    "             slice = <String Name>[StartIndex : StopIndex : Steps]\n",
    "             \n",
    "1. The StartIndex represents the index from where the string slicing is supposed to begin. Its default value is 0, i.e. the string begins from index 0 if no StartIndex is specified.\n",
    "\n",
    "2.  The StopIndex represents the last index up to which the string slicing will go on. Its default value is (length(string)-1) or the index of the last character in the string.\n",
    "\n",
    "3. Steps represent the number of steps. It is an optional parameter. steps, if defined, specifies the number of characters to jump over while counting from StartIndex to StopIndex. By default, it is 1.\n",
    "\n",
    "4. The string slices created, include characters falling between the indexes StartIndex and StopIndex, including StartIndex and not including StopIndex.\n"
   ]
  },
  {
   "cell_type": "code",
   "execution_count": 95,
   "id": "32cbc2dc-2cc3-4f8a-bf86-46baa1389a15",
   "metadata": {},
   "outputs": [
    {
     "name": "stdout",
     "output_type": "stream",
     "text": [
      "cdefg\n"
     ]
    }
   ],
   "source": [
    "# Examples\n",
    "\n",
    "s = \"abcdefghi\"\n",
    "print(s[2:7])"
   ]
  },
  {
   "cell_type": "code",
   "execution_count": 96,
   "id": "d3a77b5a-beeb-4484-8346-4842e6cea203",
   "metadata": {},
   "outputs": [
    {
     "name": "stdout",
     "output_type": "stream",
     "text": [
      "cdefg\n"
     ]
    }
   ],
   "source": [
    "# Slice Using Negative Indices\n",
    "\n",
    "s = \"abcdefghi\"\n",
    "print(s[-7:-2])"
   ]
  },
  {
   "cell_type": "code",
   "execution_count": 97,
   "id": "cf2f50a7-9004-40c5-a39c-86ed1d7ad3dd",
   "metadata": {},
   "outputs": [
    {
     "name": "stdout",
     "output_type": "stream",
     "text": [
      "Nde aa\n"
     ]
    }
   ],
   "source": [
    "# Specify Step of the Slicing\n",
    "\n",
    "s = \"Nadeem Fazal\"\n",
    "print(s[0:12:2])"
   ]
  },
  {
   "cell_type": "code",
   "execution_count": 98,
   "id": "148d89a4-dadb-432a-9ad4-d74e45b8d6fa",
   "metadata": {},
   "outputs": [
    {
     "name": "stdout",
     "output_type": "stream",
     "text": [
      "lzFme\n"
     ]
    }
   ],
   "source": [
    "#  Specify  negative Step of the Slicing\n",
    "s = \"Nadeem Fazal\"\n",
    "print(s[12:1:-2])"
   ]
  },
  {
   "cell_type": "markdown",
   "id": "95bb73b7-e0a3-43c9-922b-f8ab0d8be7e9",
   "metadata": {},
   "source": [
    "# 2.  Explain the key features of lists in Python"
   ]
  },
  {
   "cell_type": "raw",
   "id": "ae3b5626-3ca2-4862-92be-de4f7140dd02",
   "metadata": {},
   "source": [
    ">> -- A list is a standard data type of Python that can store a sequence of values belonging to any type. The Lists are contained within square brackets ( [ ] ).\n",
    "\n",
    ">>-- In Python programming, a list is created by placing all the items (elements) inside square brackets [ ], separated by commas.\n",
    ">>-- It can have any number of items and they may be of different types (integer, float,string etc.).\n",
    ">>-- lists are mutable\n"
   ]
  },
  {
   "cell_type": "code",
   "execution_count": 99,
   "id": "a8ef4846-9b43-4ab0-b0d1-150af07b8066",
   "metadata": {},
   "outputs": [],
   "source": [
    "li = ['a', 1, 4.3, \"Zero\"]"
   ]
  },
  {
   "cell_type": "code",
   "execution_count": 100,
   "id": "9433b114-9ec1-4235-ae81-a666c4642bef",
   "metadata": {},
   "outputs": [
    {
     "data": {
      "text/plain": [
       "list"
      ]
     },
     "execution_count": 100,
     "metadata": {},
     "output_type": "execute_result"
    }
   ],
   "source": [
    "type(li)"
   ]
  },
  {
   "cell_type": "code",
   "execution_count": 101,
   "id": "833f3d08-1bc7-4c99-80ed-e404da900702",
   "metadata": {},
   "outputs": [
    {
     "data": {
      "text/plain": [
       "['One', [8, 4, 6], ['Three']]"
      ]
     },
     "execution_count": 101,
     "metadata": {},
     "output_type": "execute_result"
    }
   ],
   "source": [
    "#  Nested List >>  A list can also have another list as an element. Such a list is called a Nested List.\n",
    "\n",
    "lis = [\"One\", [8, 4, 6], ['Three']] \n",
    "lis"
   ]
  },
  {
   "cell_type": "code",
   "execution_count": 102,
   "id": "99d7a3c2-0e10-4303-b69e-7f5d7f36663d",
   "metadata": {},
   "outputs": [
    {
     "name": "stdout",
     "output_type": "stream",
     "text": [
      "Mother\n",
      "Daughter\n",
      "23\n"
     ]
    }
   ],
   "source": [
    "# Accessing Elements in a List\n",
    "\n",
    "l1 = ['Mother', 'Father', 'Daughter', 10, 23]\n",
    "print(l1[0]) \n",
    "print(l1[2]) \n",
    "print(l1[4])"
   ]
  },
  {
   "cell_type": "code",
   "execution_count": 103,
   "id": "40c67e5f-b192-4628-9f87-5b634b10482b",
   "metadata": {},
   "outputs": [
    {
     "name": "stdout",
     "output_type": "stream",
     "text": [
      "23\n",
      "10\n",
      "Mother\n"
     ]
    }
   ],
   "source": [
    "# Negative indexing\n",
    "\n",
    "l1 = ['Mother', 'Father', 'Daughter', 10, 23]\n",
    "print(l1[-1]) \n",
    "print(l1[-2]) \n",
    "print(l1[-5]) "
   ]
  },
  {
   "cell_type": "markdown",
   "id": "23344433-1556-4f8a-b395-274480e252dc",
   "metadata": {},
   "source": [
    "#### Changing Elements of a List\n",
    "\n",
    "Once a list is created, we can even change the elements of the list. This is done by\n",
    "using the assignment operator (=) to change the value at a particular list index."
   ]
  },
  {
   "cell_type": "code",
   "execution_count": 104,
   "id": "6d8d0e6d-5c3a-4d0a-99cc-936e5f9e48f4",
   "metadata": {},
   "outputs": [
    {
     "name": "stdout",
     "output_type": "stream",
     "text": [
      "['Mother', 'Father', 'Daughter', 12, 'Daughter']\n"
     ]
    }
   ],
   "source": [
    "# Examples\n",
    "\n",
    "l1 = ['Mother', 'Father', 'Daughter', 10, 23]\n",
    "l1[-1] = \"Daughter\"\n",
    "l1[3] = 12 \n",
    "print(l1)"
   ]
  },
  {
   "cell_type": "markdown",
   "id": "e442f9d4-ec90-4501-8dc5-e0565d0c82b9",
   "metadata": {},
   "source": [
    "#### Concatenation of Lists\n",
    "Joining or concatenating two list in Python is very easy. The concatenation operator (+), can\n",
    "be used to join two lists. Consider the example given below:"
   ]
  },
  {
   "cell_type": "code",
   "execution_count": 105,
   "id": "7decdce3-c0e4-4391-bd48-fb5b5e961f00",
   "metadata": {},
   "outputs": [
    {
     "name": "stdout",
     "output_type": "stream",
     "text": [
      "[1, 2, 3, 3, 4, 5]\n"
     ]
    }
   ],
   "source": [
    "# Example\n",
    "\n",
    "l1= [1,2,3] #First List\n",
    "l2= [3,4,5] #Second List\n",
    "\n",
    "l3= l1+l2 #Concatenating both to get a new list\n",
    "print(l3)\n"
   ]
  },
  {
   "cell_type": "markdown",
   "id": "e34398c5-b850-46b5-8e2b-021099c01f30",
   "metadata": {},
   "source": [
    "#### Repeating/Replicating Lists\n",
    "Like strings, you can use * operator to replicate a list specified number of times.\n",
    "Consider the example given below:"
   ]
  },
  {
   "cell_type": "code",
   "execution_count": 106,
   "id": "e474c688-1159-4579-b662-858f163bebef",
   "metadata": {},
   "outputs": [
    {
     "name": "stdout",
     "output_type": "stream",
     "text": [
      "[1, 2, 10, 23, 1, 2, 10, 23, 1, 2, 10, 23]\n"
     ]
    }
   ],
   "source": [
    "# Example\n",
    "\n",
    "li = [1, 2, 10, 23]\n",
    "print(li*3)\n"
   ]
  },
  {
   "cell_type": "raw",
   "id": "d6201958-6663-4fba-a583-31a1288aa775",
   "metadata": {},
   "source": [
    "List Slicing>>\n",
    "\n",
    "List slicing refers to accessing a specific portion or a subset of a list while the original list remains unaffected.\n",
    "\n",
    "Syntax:-\n",
    "slice= <List Name>[StartIndex : StopIndex : Steps]\n",
    "    \n",
    "● The StartIndex represents the index from where the list slicing is supposed to begin. Its default value is 0, i.e. the list begins from index 0 if no StartIndex is specified.\n",
    "● The StopIndex represents the last index up to which the list slicing will go on. Its default value is (length(list)-1) or the index of the last element in the list.\n",
    "● steps represent the number of steps. It is an optional parameter. steps, if defined, specifies the number of elements to jump over while counting from StartIndex to StopIndex. By default, it is 1.\n"
   ]
  },
  {
   "cell_type": "code",
   "execution_count": 107,
   "id": "43e4c070-019f-40d2-b642-5a54af3f8594",
   "metadata": {},
   "outputs": [
    {
     "name": "stdout",
     "output_type": "stream",
     "text": [
      "['c', 'e', 'g']\n"
     ]
    }
   ],
   "source": [
    "# Examples\n",
    "L = ['a', 'b', 'c', 'd', 'e', 'f', 'g', 'h', 'i']\n",
    "print(L[2:7:2])\n"
   ]
  },
  {
   "cell_type": "code",
   "execution_count": 108,
   "id": "e8b74b79-7bae-45b9-b51b-e0ac78a99865",
   "metadata": {},
   "outputs": [
    {
     "name": "stdout",
     "output_type": "stream",
     "text": [
      "['g', 'e', 'c']\n"
     ]
    }
   ],
   "source": [
    "# slicing using negative indexing\n",
    "\n",
    "L = ['a', 'b', 'c', 'd', 'e', 'f', 'g', 'h', 'i']\n",
    "print(L[6:1:-2])"
   ]
  },
  {
   "cell_type": "raw",
   "id": "6b793083-dfe7-453a-8b5a-8a4de5ed5634",
   "metadata": {},
   "source": [
    "Various Built-in Methods\n",
    ">>--\n",
    "\n",
    "append(): Adds an element to the end.\n",
    "extend(): Adds elements from an iterable to the end.\n",
    "insert(): Inserts an element at a specified position.\n",
    "remove(): Removes the first occurrence of a specified value.\n",
    "pop(): Removes and returns an element at a given position.\n",
    "sort(): Sorts the list in place.\n",
    "reverse(): Reverses the order of elements in the list"
   ]
  },
  {
   "cell_type": "code",
   "execution_count": 109,
   "id": "6120ad09-b961-46ba-a6a0-ce0d8ea4c41a",
   "metadata": {},
   "outputs": [
    {
     "name": "stdout",
     "output_type": "stream",
     "text": [
      "['a', 'b', 'c', 'd', 'e', 'f', 'g', 'h', 'i', 'g']\n",
      "['a', 'b', 'c', 'd', 'e', 'f', 'g', 'h', 'i', 'g', 1, 2, 3, 4]\n",
      "['a', 'b', 6, 'c', 'd', 'e', 'f', 'g', 'h', 'i', 'g', 1, 2, 3, 4]\n",
      "['a', 6, 'c', 'd', 'e', 'f', 'g', 'h', 'i', 'g', 1, 2, 3, 4]\n",
      "['a', 6, 'c', 'e', 'f', 'g', 'h', 'i', 'g', 1, 2, 3, 4]\n",
      "[4, 3, 2, 1, 'g', 'i', 'h', 'g', 'f', 'e', 'c', 6, 'a']\n"
     ]
    }
   ],
   "source": [
    "# Examples \n",
    "l = ['a', 'b', 'c', 'd', 'e', 'f', 'g', 'h', 'i']\n",
    "l.append('g')\n",
    "print(l)\n",
    "\n",
    "l.extend([1,2,3,4])\n",
    "print(l)\n",
    "\n",
    "l.insert(2, 6)\n",
    "print(l)\n",
    "\n",
    "l.remove('b')\n",
    "print(l)\n",
    "\n",
    "l.pop(3)\n",
    "print(l)\n",
    "\n",
    "l.reverse()\n",
    "print(l)\n"
   ]
  },
  {
   "cell_type": "markdown",
   "id": "1f11d077-ff1b-4d8d-85e5-ecc5cafe3399",
   "metadata": {},
   "source": [
    "#### Using for loop and range()\n"
   ]
  },
  {
   "cell_type": "code",
   "execution_count": 110,
   "id": "e59f8fd8-7382-4e74-8a77-60f7a6ad4fb2",
   "metadata": {},
   "outputs": [
    {
     "name": "stdout",
     "output_type": "stream",
     "text": [
      "0\n",
      "1\n",
      "2\n",
      "3\n",
      "4\n"
     ]
    }
   ],
   "source": [
    "# example\n",
    "list = [1, 3, 5, 7, 9]\n",
    "length = len(list) #Getting the length of the list\n",
    "for i in range(length): #Iterations from 0 to (length-1)\n",
    "    print(i)\n"
   ]
  },
  {
   "cell_type": "markdown",
   "id": "593e8929-b142-4a5a-ac38-80a9fbbfdf7f",
   "metadata": {},
   "source": [
    "#### List Comprehensions\n",
    "Definition: Python supports list comprehensions, which provide a concise way to create lists based on existing lists or other iterables."
   ]
  },
  {
   "cell_type": "code",
   "execution_count": 111,
   "id": "65cc1d14-263f-45ae-8c9d-dde0c065c727",
   "metadata": {},
   "outputs": [
    {
     "name": "stdout",
     "output_type": "stream",
     "text": [
      "[0, 1, 4, 9, 16, 25, 36, 49, 64, 81]\n"
     ]
    }
   ],
   "source": [
    "squares = [i**2 for i in range(10)]\n",
    "print(squares)  \n"
   ]
  },
  {
   "cell_type": "markdown",
   "id": "a83be312-b92d-46a0-8be1-227f21657053",
   "metadata": {},
   "source": [
    "# 3.Describe how to access, modify, and delete elements in a list with examples"
   ]
  },
  {
   "cell_type": "raw",
   "id": "16d4af6d-1285-410b-95bc-a7bdf9c94377",
   "metadata": {},
   "source": [
    "Accessing Elements >>--\n",
    "\n",
    "You can access elements in a list using indexing. Python uses zero-based indexing, meaning the first element is at index 0, the second at index 1, and so on. You can also use negative indices to access elements from the end of the list, where -1 refers to the last element."
   ]
  },
  {
   "cell_type": "code",
   "execution_count": 112,
   "id": "82aa0446-889d-4c97-bfbf-4bc19644d4da",
   "metadata": {},
   "outputs": [
    {
     "name": "stdout",
     "output_type": "stream",
     "text": [
      "Nadeem\n",
      "pwskills\n",
      "50\n",
      "40\n"
     ]
    }
   ],
   "source": [
    "# examples\n",
    "\n",
    "\n",
    "my_list = [\"Nadeem\", \"pwskills\",\"Ajay\", 40, 50]\n",
    "\n",
    "# Access the first element\n",
    "print(my_list[0]) \n",
    "\n",
    "# Access the third element\n",
    "print(my_list[1]) \n",
    "\n",
    "# Access the last element\n",
    "print(my_list[-1])\n",
    "\n",
    "# Access the second-to-last element\n",
    "print(my_list[-2])  \n"
   ]
  },
  {
   "cell_type": "raw",
   "id": "20a90b53-3892-4470-be5e-e45c42492a44",
   "metadata": {},
   "source": [
    "Modifying Elements >>--\n",
    "\n",
    "You can modify elements by assigning a new value to a specific index. This operation changes the original list."
   ]
  },
  {
   "cell_type": "code",
   "execution_count": 113,
   "id": "90e46965-46d3-4673-a678-670c1b83f35a",
   "metadata": {},
   "outputs": [
    {
     "name": "stdout",
     "output_type": "stream",
     "text": [
      "[10, 25, 30, 40, 50]\n",
      "[10, 25, 30, 40, 45]\n",
      "[10, 25, 33, 44, 45]\n"
     ]
    }
   ],
   "source": [
    "# Example\n",
    "\n",
    "my_list = [10, 20, 30, 40, 50]\n",
    "\n",
    "# Modify the second element\n",
    "my_list[1] = 25\n",
    "print(my_list) \n",
    "\n",
    "# Modify the last element\n",
    "my_list[-1] = 45\n",
    "print(my_list) \n",
    "\n",
    "# Modify a slice of the list\n",
    "my_list[2:4] = [33, 44]\n",
    "print(my_list)  \n"
   ]
  },
  {
   "cell_type": "raw",
   "id": "f1b0baeb-c3de-4f15-9189-5575d7ce0c2e",
   "metadata": {},
   "source": [
    "Deleting Elements >>--\n",
    "\n",
    "You can delete elements using various methods: del statement, pop() method, or remove() method."
   ]
  },
  {
   "cell_type": "code",
   "execution_count": 114,
   "id": "6dd45cef-25e9-48ba-8ebb-f683e4b0f3bc",
   "metadata": {},
   "outputs": [
    {
     "name": "stdout",
     "output_type": "stream",
     "text": [
      "['Nadeem', 'pwskills', 40, 50]\n"
     ]
    }
   ],
   "source": [
    "# Delete method\n",
    "\n",
    "my_list = [\"Nadeem\", \"pwskills\",\"Ajay\", 40, 50]\n",
    "\n",
    "# Delete the third element\n",
    "del my_list[2]\n",
    "print(my_list)"
   ]
  },
  {
   "cell_type": "code",
   "execution_count": 115,
   "id": "8bfa80a2-4687-4c0f-968f-1e2a5b9e485f",
   "metadata": {},
   "outputs": [
    {
     "name": "stdout",
     "output_type": "stream",
     "text": [
      "Ajay\n",
      "['Nadeem', 'pwskills', 40, 50]\n"
     ]
    }
   ],
   "source": [
    "# pop method\n",
    "\n",
    "my_list = [\"Nadeem\", \"pwskills\",\"Ajay\", 40, 50]\n",
    "\n",
    "# Pop the third element\n",
    "\n",
    "popped_element = my_list.pop(2)\n",
    "print(popped_element) \n",
    "print(my_list) "
   ]
  },
  {
   "cell_type": "code",
   "execution_count": 116,
   "id": "ad9fb10c-8a74-4a23-b10f-5ebbdc38b015",
   "metadata": {},
   "outputs": [
    {
     "name": "stdout",
     "output_type": "stream",
     "text": [
      "['Nadeem', 'pwskills', 'Ajay', 50, 40]\n"
     ]
    }
   ],
   "source": [
    "# remove method\n",
    "\n",
    "my_list = [\"Nadeem\", \"pwskills\",\"Ajay\", 40, 50, 40]\n",
    "\n",
    "# Remove the first occurrence of value 40\n",
    "my_list.remove(40)\n",
    "print(my_list) "
   ]
  },
  {
   "cell_type": "markdown",
   "id": "e5435496-c93f-4e78-9841-1e0687e7c0a4",
   "metadata": {},
   "source": [
    "# 4.Compare and contrast tuples and lists with examples"
   ]
  },
  {
   "cell_type": "code",
   "execution_count": null,
   "id": "051fc5df-b09c-45a0-8f5f-4d5e404bcd52",
   "metadata": {},
   "outputs": [],
   "source": []
  },
  {
   "cell_type": "code",
   "execution_count": null,
   "id": "5f8afb98-66d6-41ed-b194-31d943e19eab",
   "metadata": {},
   "outputs": [],
   "source": []
  },
  {
   "cell_type": "code",
   "execution_count": null,
   "id": "c4b70466-0571-4188-8bdc-f6fa86e1c19c",
   "metadata": {},
   "outputs": [],
   "source": []
  },
  {
   "cell_type": "code",
   "execution_count": null,
   "id": "d0d04e3e-35f6-4894-9b81-5e98373a484e",
   "metadata": {},
   "outputs": [],
   "source": []
  },
  {
   "cell_type": "code",
   "execution_count": null,
   "id": "14967ed0-f373-4489-a352-26f835d786f4",
   "metadata": {},
   "outputs": [],
   "source": []
  },
  {
   "cell_type": "code",
   "execution_count": null,
   "id": "35b3feca-1175-4d93-b508-5563cb784ef7",
   "metadata": {},
   "outputs": [],
   "source": []
  },
  {
   "cell_type": "code",
   "execution_count": null,
   "id": "ca3f7445-df15-4b5e-8b20-07b2c355a36d",
   "metadata": {},
   "outputs": [],
   "source": []
  },
  {
   "cell_type": "code",
   "execution_count": null,
   "id": "2a38619e-126e-4130-bf5d-070c36ffa49a",
   "metadata": {},
   "outputs": [],
   "source": []
  },
  {
   "cell_type": "code",
   "execution_count": null,
   "id": "cad5042c-294e-4e0f-bc18-db0b11427065",
   "metadata": {},
   "outputs": [],
   "source": []
  },
  {
   "cell_type": "code",
   "execution_count": null,
   "id": "d89a0e08-2527-430c-acf3-811a3f1dbb84",
   "metadata": {},
   "outputs": [],
   "source": []
  },
  {
   "cell_type": "code",
   "execution_count": null,
   "id": "f7392698-302e-4a83-9f92-359934e3a56c",
   "metadata": {},
   "outputs": [],
   "source": []
  },
  {
   "cell_type": "code",
   "execution_count": null,
   "id": "c99fb993-5df8-4d46-a073-9e2abe86143c",
   "metadata": {},
   "outputs": [],
   "source": []
  },
  {
   "cell_type": "code",
   "execution_count": null,
   "id": "4ff06a92-07bb-4bb2-ab0f-4ccfb79bb6fc",
   "metadata": {},
   "outputs": [],
   "source": []
  }
 ],
 "metadata": {
  "kernelspec": {
   "display_name": "Python 3 (ipykernel)",
   "language": "python",
   "name": "python3"
  },
  "language_info": {
   "codemirror_mode": {
    "name": "ipython",
    "version": 3
   },
   "file_extension": ".py",
   "mimetype": "text/x-python",
   "name": "python",
   "nbconvert_exporter": "python",
   "pygments_lexer": "ipython3",
   "version": "3.10.8"
  }
 },
 "nbformat": 4,
 "nbformat_minor": 5
}
