{
 "cells": [
  {
   "cell_type": "markdown",
   "id": "26672f7d-721b-405b-aa56-da9b0b338ad5",
   "metadata": {},
   "source": [
    "# 1. Discuss string slicing and provide examples"
   ]
  },
  {
   "cell_type": "markdown",
   "id": "bfabe8d0-6faf-4203-8160-fe9c15ef2c65",
   "metadata": {},
   "source": [
    "String Slicing >>\n",
    "\n",
    ">-- String slicing refers to accessing a specific portion or a subset of a string with the original string remaining unaffected.\n",
    "\n",
    ">-- You can use the indexes of string characters to create string slices as per the following syntax:\n",
    "\n",
    "             slice = <String Name>[StartIndex : StopIndex : Steps]\n",
    "             \n",
    "1. The StartIndex represents the index from where the string slicing is supposed to begin. Its default value is 0, i.e. the string begins from index 0 if no StartIndex is specified.\n",
    "\n",
    "2.  The StopIndex represents the last index up to which the string slicing will go on. Its default value is (length(string)-1) or the index of the last character in the string.\n",
    "\n",
    "3. Steps represent the number of steps. It is an optional parameter. steps, if defined, specifies the number of characters to jump over while counting from StartIndex to StopIndex. By default, it is 1.\n",
    "\n",
    "4. The string slices created, include characters falling between the indexes StartIndex and StopIndex, including StartIndex and not including StopIndex.\n"
   ]
  },
  {
   "cell_type": "code",
   "execution_count": 45,
   "id": "32cbc2dc-2cc3-4f8a-bf86-46baa1389a15",
   "metadata": {},
   "outputs": [
    {
     "name": "stdout",
     "output_type": "stream",
     "text": [
      "cdefg\n"
     ]
    }
   ],
   "source": [
    "# Examples\n",
    "\n",
    "s = \"abcdefghi\"\n",
    "print(s[2:7])"
   ]
  },
  {
   "cell_type": "code",
   "execution_count": 46,
   "id": "d3a77b5a-beeb-4484-8346-4842e6cea203",
   "metadata": {},
   "outputs": [
    {
     "name": "stdout",
     "output_type": "stream",
     "text": [
      "cdefg\n"
     ]
    }
   ],
   "source": [
    "# Slice Using Negative Indices\n",
    "\n",
    "s = \"abcdefghi\"\n",
    "print(s[-7:-2])"
   ]
  },
  {
   "cell_type": "code",
   "execution_count": 47,
   "id": "cf2f50a7-9004-40c5-a39c-86ed1d7ad3dd",
   "metadata": {},
   "outputs": [
    {
     "name": "stdout",
     "output_type": "stream",
     "text": [
      "Nde aa\n"
     ]
    }
   ],
   "source": [
    "# Specify Step of the Slicing\n",
    "\n",
    "s = \"Nadeem Fazal\"\n",
    "print(s[0:12:2])"
   ]
  },
  {
   "cell_type": "code",
   "execution_count": 48,
   "id": "148d89a4-dadb-432a-9ad4-d74e45b8d6fa",
   "metadata": {},
   "outputs": [
    {
     "name": "stdout",
     "output_type": "stream",
     "text": [
      "lzFme\n"
     ]
    }
   ],
   "source": [
    "#  Specify  negative Step of the Slicing\n",
    "s = \"Nadeem Fazal\"\n",
    "print(s[12:1:-2])"
   ]
  },
  {
   "cell_type": "markdown",
   "id": "95bb73b7-e0a3-43c9-922b-f8ab0d8be7e9",
   "metadata": {},
   "source": [
    "# 2.  Explain the key features of lists in Python"
   ]
  },
  {
   "cell_type": "markdown",
   "id": "49a35ef0-e94f-4905-861d-5c305697229a",
   "metadata": {},
   "source": [
    ">> -- A list is a standard data type of Python that can store a sequence of values belonging to any type. The Lists are contained within square brackets ( [ ] ).\n",
    "\n",
    ">>-- In Python programming, a list is created by placing all the items (elements) inside square brackets [ ], separated by commas.\n",
    ">>-- It can have any number of items and they may be of different types (integer, float,string etc.).\n",
    ">>-- lists are mutable\n"
   ]
  },
  {
   "cell_type": "code",
   "execution_count": 49,
   "id": "a8ef4846-9b43-4ab0-b0d1-150af07b8066",
   "metadata": {},
   "outputs": [],
   "source": [
    "li = ['a', 1, 4.3, \"Zero\"]"
   ]
  },
  {
   "cell_type": "code",
   "execution_count": 50,
   "id": "9433b114-9ec1-4235-ae81-a666c4642bef",
   "metadata": {},
   "outputs": [
    {
     "data": {
      "text/plain": [
       "list"
      ]
     },
     "execution_count": 50,
     "metadata": {},
     "output_type": "execute_result"
    }
   ],
   "source": [
    "type(li)"
   ]
  },
  {
   "cell_type": "code",
   "execution_count": 51,
   "id": "833f3d08-1bc7-4c99-80ed-e404da900702",
   "metadata": {},
   "outputs": [
    {
     "data": {
      "text/plain": [
       "['One', [8, 4, 6], ['Three']]"
      ]
     },
     "execution_count": 51,
     "metadata": {},
     "output_type": "execute_result"
    }
   ],
   "source": [
    "#  Nested List >>  A list can also have another list as an element. Such a list is called a Nested List.\n",
    "\n",
    "lis = [\"One\", [8, 4, 6], ['Three']] \n",
    "lis"
   ]
  },
  {
   "cell_type": "code",
   "execution_count": 52,
   "id": "99d7a3c2-0e10-4303-b69e-7f5d7f36663d",
   "metadata": {},
   "outputs": [
    {
     "name": "stdout",
     "output_type": "stream",
     "text": [
      "Mother\n",
      "Daughter\n",
      "23\n"
     ]
    }
   ],
   "source": [
    "# Accessing Elements in a List\n",
    "\n",
    "l1 = ['Mother', 'Father', 'Daughter', 10, 23]\n",
    "print(l1[0]) \n",
    "print(l1[2]) \n",
    "print(l1[4])"
   ]
  },
  {
   "cell_type": "code",
   "execution_count": 53,
   "id": "40c67e5f-b192-4628-9f87-5b634b10482b",
   "metadata": {},
   "outputs": [
    {
     "name": "stdout",
     "output_type": "stream",
     "text": [
      "23\n",
      "10\n",
      "Mother\n"
     ]
    }
   ],
   "source": [
    "# Negative indexing\n",
    "\n",
    "l1 = ['Mother', 'Father', 'Daughter', 10, 23]\n",
    "print(l1[-1]) \n",
    "print(l1[-2]) \n",
    "print(l1[-5]) "
   ]
  },
  {
   "cell_type": "markdown",
   "id": "23344433-1556-4f8a-b395-274480e252dc",
   "metadata": {},
   "source": [
    "#### Changing Elements of a List\n",
    "\n",
    "Once a list is created, we can even change the elements of the list. This is done by\n",
    "using the assignment operator (=) to change the value at a particular list index."
   ]
  },
  {
   "cell_type": "code",
   "execution_count": 54,
   "id": "6d8d0e6d-5c3a-4d0a-99cc-936e5f9e48f4",
   "metadata": {},
   "outputs": [
    {
     "name": "stdout",
     "output_type": "stream",
     "text": [
      "['Mother', 'Father', 'Daughter', 12, 'Daughter']\n"
     ]
    }
   ],
   "source": [
    "# Examples\n",
    "\n",
    "l1 = ['Mother', 'Father', 'Daughter', 10, 23]\n",
    "l1[-1] = \"Daughter\"\n",
    "l1[3] = 12 \n",
    "print(l1)"
   ]
  },
  {
   "cell_type": "markdown",
   "id": "e442f9d4-ec90-4501-8dc5-e0565d0c82b9",
   "metadata": {},
   "source": [
    "#### Concatenation of Lists\n",
    "Joining or concatenating two list in Python is very easy. The concatenation operator (+), can\n",
    "be used to join two lists. Consider the example given below:"
   ]
  },
  {
   "cell_type": "code",
   "execution_count": 55,
   "id": "7decdce3-c0e4-4391-bd48-fb5b5e961f00",
   "metadata": {},
   "outputs": [
    {
     "name": "stdout",
     "output_type": "stream",
     "text": [
      "[1, 2, 3, 3, 4, 5]\n"
     ]
    }
   ],
   "source": [
    "# Example\n",
    "\n",
    "l1= [1,2,3] #First List\n",
    "l2= [3,4,5] #Second List\n",
    "\n",
    "l3= l1+l2 #Concatenating both to get a new list\n",
    "print(l3)\n"
   ]
  },
  {
   "cell_type": "markdown",
   "id": "e34398c5-b850-46b5-8e2b-021099c01f30",
   "metadata": {},
   "source": [
    "#### Repeating/Replicating Lists\n",
    "Like strings, you can use * operator to replicate a list specified number of times.\n",
    "Consider the example given below:"
   ]
  },
  {
   "cell_type": "code",
   "execution_count": 56,
   "id": "e474c688-1159-4579-b662-858f163bebef",
   "metadata": {},
   "outputs": [
    {
     "name": "stdout",
     "output_type": "stream",
     "text": [
      "[1, 2, 10, 23, 1, 2, 10, 23, 1, 2, 10, 23]\n"
     ]
    }
   ],
   "source": [
    "# Example\n",
    "\n",
    "li = [1, 2, 10, 23]\n",
    "print(li*3)\n"
   ]
  },
  {
   "cell_type": "markdown",
   "id": "755abf98-7cf6-4e5e-a011-0fa8f2015406",
   "metadata": {},
   "source": [
    "List Slicing>>\n",
    "\n",
    "List slicing refers to accessing a specific portion or a subset of a list while the original list remains unaffected.\n",
    "\n",
    "Syntax:-\n",
    "slice= <List Name>[StartIndex : StopIndex : Steps]\n",
    "    \n",
    "● The StartIndex represents the index from where the list slicing is supposed to begin. Its default value is 0, i.e. the list begins from index 0 if no StartIndex is specified.\n",
    "● The StopIndex represents the last index up to which the list slicing will go on. Its default value is (length(list)-1) or the index of the last element in the list.\n",
    "● steps represent the number of steps. It is an optional parameter. steps, if defined, specifies the number of elements to jump over while counting from StartIndex to StopIndex. By default, it is 1.\n"
   ]
  },
  {
   "cell_type": "code",
   "execution_count": 57,
   "id": "43e4c070-019f-40d2-b642-5a54af3f8594",
   "metadata": {},
   "outputs": [
    {
     "name": "stdout",
     "output_type": "stream",
     "text": [
      "['c', 'e', 'g']\n"
     ]
    }
   ],
   "source": [
    "# Examples\n",
    "L = ['a', 'b', 'c', 'd', 'e', 'f', 'g', 'h', 'i']\n",
    "print(L[2:7:2])\n"
   ]
  },
  {
   "cell_type": "code",
   "execution_count": 58,
   "id": "e8b74b79-7bae-45b9-b51b-e0ac78a99865",
   "metadata": {},
   "outputs": [
    {
     "name": "stdout",
     "output_type": "stream",
     "text": [
      "['g', 'e', 'c']\n"
     ]
    }
   ],
   "source": [
    "# slicing using negative indexing\n",
    "\n",
    "L = ['a', 'b', 'c', 'd', 'e', 'f', 'g', 'h', 'i']\n",
    "print(L[6:1:-2])"
   ]
  },
  {
   "cell_type": "markdown",
   "id": "dc58b17b-1d5d-4957-abd1-0779085fc958",
   "metadata": {},
   "source": [
    "Various Built-in Methods\n",
    ">>--\n",
    "\n",
    "append(): Adds an element to the end.\n",
    "extend(): Adds elements from an iterable to the end.\n",
    "insert(): Inserts an element at a specified position.\n",
    "remove(): Removes the first occurrence of a specified value.\n",
    "pop(): Removes and returns an element at a given position.\n",
    "sort(): Sorts the list in place.\n",
    "reverse(): Reverses the order of elements in the list"
   ]
  },
  {
   "cell_type": "code",
   "execution_count": 59,
   "id": "6120ad09-b961-46ba-a6a0-ce0d8ea4c41a",
   "metadata": {},
   "outputs": [
    {
     "name": "stdout",
     "output_type": "stream",
     "text": [
      "['a', 'b', 'c', 'd', 'e', 'f', 'g', 'h', 'i', 'g']\n",
      "['a', 'b', 'c', 'd', 'e', 'f', 'g', 'h', 'i', 'g', 1, 2, 3, 4]\n",
      "['a', 'b', 6, 'c', 'd', 'e', 'f', 'g', 'h', 'i', 'g', 1, 2, 3, 4]\n",
      "['a', 6, 'c', 'd', 'e', 'f', 'g', 'h', 'i', 'g', 1, 2, 3, 4]\n",
      "['a', 6, 'c', 'e', 'f', 'g', 'h', 'i', 'g', 1, 2, 3, 4]\n",
      "[4, 3, 2, 1, 'g', 'i', 'h', 'g', 'f', 'e', 'c', 6, 'a']\n"
     ]
    }
   ],
   "source": [
    "# Examples \n",
    "l = ['a', 'b', 'c', 'd', 'e', 'f', 'g', 'h', 'i']\n",
    "l.append('g')\n",
    "print(l)\n",
    "\n",
    "l.extend([1,2,3,4])\n",
    "print(l)\n",
    "\n",
    "l.insert(2, 6)\n",
    "print(l)\n",
    "\n",
    "l.remove('b')\n",
    "print(l)\n",
    "\n",
    "l.pop(3)\n",
    "print(l)\n",
    "\n",
    "l.reverse()\n",
    "print(l)\n"
   ]
  },
  {
   "cell_type": "markdown",
   "id": "1f11d077-ff1b-4d8d-85e5-ecc5cafe3399",
   "metadata": {},
   "source": [
    "#### Using for loop and range()\n"
   ]
  },
  {
   "cell_type": "code",
   "execution_count": 60,
   "id": "e59f8fd8-7382-4e74-8a77-60f7a6ad4fb2",
   "metadata": {},
   "outputs": [
    {
     "name": "stdout",
     "output_type": "stream",
     "text": [
      "0\n",
      "1\n",
      "2\n",
      "3\n",
      "4\n"
     ]
    }
   ],
   "source": [
    "# example\n",
    "list = [1, 3, 5, 7, 9]\n",
    "length = len(list) #Getting the length of the list\n",
    "for i in range(length): #Iterations from 0 to (length-1)\n",
    "    print(i)\n"
   ]
  },
  {
   "cell_type": "markdown",
   "id": "593e8929-b142-4a5a-ac38-80a9fbbfdf7f",
   "metadata": {},
   "source": [
    "#### List Comprehensions\n",
    "Definition: Python supports list comprehensions, which provide a concise way to create lists based on existing lists or other iterables."
   ]
  },
  {
   "cell_type": "code",
   "execution_count": 61,
   "id": "65cc1d14-263f-45ae-8c9d-dde0c065c727",
   "metadata": {},
   "outputs": [
    {
     "name": "stdout",
     "output_type": "stream",
     "text": [
      "[0, 1, 4, 9, 16, 25, 36, 49, 64, 81]\n"
     ]
    }
   ],
   "source": [
    "squares = [i**2 for i in range(10)]\n",
    "print(squares)  \n"
   ]
  },
  {
   "cell_type": "markdown",
   "id": "a83be312-b92d-46a0-8be1-227f21657053",
   "metadata": {},
   "source": [
    "# 3.Describe how to access, modify, and delete elements in a list with examples"
   ]
  },
  {
   "cell_type": "markdown",
   "id": "8f8a8d45-94e9-4c3e-8fd6-709c5cb07e33",
   "metadata": {},
   "source": [
    "Accessing Elements >>--\n",
    "\n",
    "You can access elements in a list using indexing. Python uses zero-based indexing, meaning the first element is at index 0, the second at index 1, and so on. You can also use negative indices to access elements from the end of the list, where -1 refers to the last element."
   ]
  },
  {
   "cell_type": "code",
   "execution_count": 62,
   "id": "82aa0446-889d-4c97-bfbf-4bc19644d4da",
   "metadata": {},
   "outputs": [
    {
     "name": "stdout",
     "output_type": "stream",
     "text": [
      "Nadeem\n",
      "pwskills\n",
      "50\n",
      "40\n"
     ]
    }
   ],
   "source": [
    "# examples\n",
    "\n",
    "\n",
    "my_list = [\"Nadeem\", \"pwskills\",\"Ajay\", 40, 50]\n",
    "\n",
    "# Access the first element\n",
    "print(my_list[0]) \n",
    "\n",
    "# Access the third element\n",
    "print(my_list[1]) \n",
    "\n",
    "# Access the last element\n",
    "print(my_list[-1])\n",
    "\n",
    "# Access the second-to-last element\n",
    "print(my_list[-2])  \n"
   ]
  },
  {
   "cell_type": "markdown",
   "id": "cfb47b00-8de4-428f-b0c3-f892b10b9938",
   "metadata": {},
   "source": [
    "Modifying Elements >>--\n",
    "\n",
    "You can modify elements by assigning a new value to a specific index. This operation changes the original list."
   ]
  },
  {
   "cell_type": "code",
   "execution_count": 41,
   "id": "90e46965-46d3-4673-a678-670c1b83f35a",
   "metadata": {},
   "outputs": [
    {
     "name": "stdout",
     "output_type": "stream",
     "text": [
      "[10, 25, 30, 40, 50]\n",
      "[10, 25, 30, 40, 45]\n",
      "[10, 25, 33, 44, 45]\n"
     ]
    }
   ],
   "source": [
    "# Example\n",
    "\n",
    "my_list = [10, 20, 30, 40, 50]\n",
    "\n",
    "# Modify the second element\n",
    "my_list[1] = 25\n",
    "print(my_list) \n",
    "\n",
    "# Modify the last element\n",
    "my_list[-1] = 45\n",
    "print(my_list) \n",
    "\n",
    "# Modify a slice of the list\n",
    "my_list[2:4] = [33, 44]\n",
    "print(my_list)  \n"
   ]
  },
  {
   "cell_type": "markdown",
   "id": "ce1459ca-ab8c-47f2-8aaf-c05429f92e02",
   "metadata": {},
   "source": [
    "Deleting Elements >>--\n",
    "\n",
    "You can delete elements using various methods: del statement, pop() method, or remove() method."
   ]
  },
  {
   "cell_type": "code",
   "execution_count": 42,
   "id": "6dd45cef-25e9-48ba-8ebb-f683e4b0f3bc",
   "metadata": {},
   "outputs": [
    {
     "name": "stdout",
     "output_type": "stream",
     "text": [
      "['Nadeem', 'pwskills', 40, 50]\n"
     ]
    }
   ],
   "source": [
    "# Delete method\n",
    "\n",
    "my_list = [\"Nadeem\", \"pwskills\",\"Ajay\", 40, 50]\n",
    "\n",
    "# Delete the third element\n",
    "del my_list[2]\n",
    "print(my_list)"
   ]
  },
  {
   "cell_type": "code",
   "execution_count": 43,
   "id": "8bfa80a2-4687-4c0f-968f-1e2a5b9e485f",
   "metadata": {},
   "outputs": [
    {
     "name": "stdout",
     "output_type": "stream",
     "text": [
      "Ajay\n",
      "['Nadeem', 'pwskills', 40, 50]\n"
     ]
    }
   ],
   "source": [
    "# pop method\n",
    "\n",
    "my_list = [\"Nadeem\", \"pwskills\",\"Ajay\", 40, 50]\n",
    "\n",
    "# Pop the third element\n",
    "\n",
    "popped_element = my_list.pop(2)\n",
    "print(popped_element) \n",
    "print(my_list) "
   ]
  },
  {
   "cell_type": "code",
   "execution_count": 44,
   "id": "ad9fb10c-8a74-4a23-b10f-5ebbdc38b015",
   "metadata": {},
   "outputs": [
    {
     "name": "stdout",
     "output_type": "stream",
     "text": [
      "['Nadeem', 'pwskills', 'Ajay', 50, 40]\n"
     ]
    }
   ],
   "source": [
    "# remove method\n",
    "\n",
    "my_list = [\"Nadeem\", \"pwskills\",\"Ajay\", 40, 50, 40]\n",
    "\n",
    "# Remove the first occurrence of value 40\n",
    "my_list.remove(40)\n",
    "print(my_list) "
   ]
  },
  {
   "cell_type": "markdown",
   "id": "e5435496-c93f-4e78-9841-1e0687e7c0a4",
   "metadata": {},
   "source": [
    "# 4.Compare and contrast tuples and lists with examples"
   ]
  },
  {
   "cell_type": "markdown",
   "id": "445e3f49-7b29-4d8e-9344-1fd7a4f456fc",
   "metadata": {},
   "source": [
    "Here's a concise comparison of tuples and lists in Python:\n",
    "\n",
    "Lists >>>--\n",
    "\n",
    "Syntax: Defined with square brackets [].\n",
    "Mutability: Mutable; you can change, add, or remove elements.\n",
    "Methods: Many methods like append(), remove(), sort().\n",
    "Use Case: Ideal for collections that need to be modified."
   ]
  },
  {
   "cell_type": "markdown",
   "id": "e7419ee3-1dc7-44ec-8f75-3773b431521a",
   "metadata": {},
   "source": [
    "Tuples >>>---\n",
    "\n",
    "Immutable: Cannot be changed after creation.\n",
    "Syntax: ()\n",
    "Performance: Faster for iteration and access.\n",
    "Use Case: Fixed collections, like coordinates.\n",
    "Hashable: Can be used as dictionary keys or set elements."
   ]
  },
  {
   "cell_type": "code",
   "execution_count": 1,
   "id": "c4b70466-0571-4188-8bdc-f6fa86e1c19c",
   "metadata": {},
   "outputs": [
    {
     "name": "stdout",
     "output_type": "stream",
     "text": [
      "Tasks: ['Buy groceries', 'Finish work presentation', 'Call mom']\n"
     ]
    }
   ],
   "source": [
    "# Examples >> list\n",
    "\n",
    "tasks = ['Buy groceries', 'Clean the house', 'Finish homework']\n",
    "\n",
    "# Adding a new task\n",
    "tasks.append('Call mom')\n",
    "\n",
    "# Removing a task\n",
    "tasks.remove('Clean the house')\n",
    "\n",
    "# Modifying an existing task\n",
    "tasks[1] = 'Finish work presentation'\n",
    "\n",
    "print(\"Tasks:\", tasks)\n"
   ]
  },
  {
   "cell_type": "code",
   "execution_count": 6,
   "id": "d0d04e3e-35f6-4894-9b81-5e98373a484e",
   "metadata": {},
   "outputs": [
    {
     "name": "stdout",
     "output_type": "stream",
     "text": [
      "Latitude: 40.7128\n",
      "Longitude: -74.006\n"
     ]
    }
   ],
   "source": [
    "# Examples >> Tuple\n",
    "\n",
    "coordinates = (40.7128, -74.0060) \n",
    "\n",
    "# Accessing elements\n",
    "latitude = coordinates[0]\n",
    "longitude = coordinates[1]\n",
    "\n",
    "print(\"Latitude:\", latitude)\n",
    "print(\"Longitude:\", longitude)\n",
    "\n"
   ]
  },
  {
   "cell_type": "code",
   "execution_count": 7,
   "id": "14967ed0-f373-4489-a352-26f835d786f4",
   "metadata": {},
   "outputs": [
    {
     "ename": "TypeError",
     "evalue": "'tuple' object does not support item assignment",
     "output_type": "error",
     "traceback": [
      "\u001b[0;31m---------------------------------------------------------------------------\u001b[0m",
      "\u001b[0;31mTypeError\u001b[0m                                 Traceback (most recent call last)",
      "Cell \u001b[0;32mIn[7], line 1\u001b[0m\n\u001b[0;32m----> 1\u001b[0m \u001b[43mcoordinates\u001b[49m\u001b[43m[\u001b[49m\u001b[38;5;241;43m0\u001b[39;49m\u001b[43m]\u001b[49m \u001b[38;5;241m=\u001b[39m \u001b[38;5;241m41.0000\u001b[39m \u001b[38;5;66;03m# 'tuple' object does not support item assignment\u001b[39;00m\n",
      "\u001b[0;31mTypeError\u001b[0m: 'tuple' object does not support item assignment"
     ]
    }
   ],
   "source": [
    "coordinates[0] = 41.0000 # 'tuple' object does not support item assignment"
   ]
  },
  {
   "cell_type": "markdown",
   "id": "732247dd-38ac-4ed7-b8b3-9d6ab5aae3de",
   "metadata": {},
   "source": [
    "# 5. Describe the key features of sets and provide examples of their use\n",
    " "
   ]
  },
  {
   "cell_type": "markdown",
   "id": "ad8ef635-cd90-4102-b889-024c503dc333",
   "metadata": {},
   "source": [
    "Mathematically a set is a collection of items (not in any particular order). A Python set is similar to this mathematical definition with below additional conditions.\n",
    "\n",
    "● The elements in a set cannot be repeated i.e. an element can occur only once.\n",
    "● The elements in the set are immutable(cannot be modified) but the set as a whole is\n",
    "mutable.\n",
    "● There is no index attached to any element in a python set. So they do not support\n",
    "any indexing or slicing operation."
   ]
  },
  {
   "cell_type": "markdown",
   "id": "8caa3ce2-a0aa-40de-8063-45404f68664e",
   "metadata": {},
   "source": [
    "Set Operations >>--\n",
    "\n",
    "The sets in python are typically used for mathematical operations like union, intersection, difference, and complement, etc. We can create a set, access its elements, and carry out these mathematical operations."
   ]
  },
  {
   "cell_type": "code",
   "execution_count": 12,
   "id": "cad5042c-294e-4e0f-bc18-db0b11427065",
   "metadata": {},
   "outputs": [
    {
     "name": "stdout",
     "output_type": "stream",
     "text": [
      "{'Thu', 'Tue', 'Sat', 'Fri', 'Mon', 'Wed', 'Sun'}\n",
      "{'Mar', 'Feb', 'Jan'}\n",
      "{17, 21, 22}\n"
     ]
    }
   ],
   "source": [
    "# Creating sets\n",
    "Days={\"Mon\",\"Tue\",\"Wed\",\"Thu\",\"Fri\",\"Sat\",\"Sun\"}\n",
    "      \n",
    "Months={\"Jan\",\"Feb\",\"Mar\"}\n",
    "Dates={21,22,17}\n",
    "print(Days)\n",
    "print(Months)\n",
    "print(Dates)"
   ]
  },
  {
   "cell_type": "markdown",
   "id": "68ceeae9-c29e-44a1-9901-3ae307d74785",
   "metadata": {},
   "source": [
    "Note: The order of the elements has changed in the above result."
   ]
  },
  {
   "cell_type": "markdown",
   "id": "bec82fff-d78f-441b-96d5-a7a0fa880692",
   "metadata": {},
   "source": [
    "Accessing Values in a Set >>--\n",
    "\n",
    "We cannot access individual values in a set as there is no specific order of elements in a set.\n",
    "We can only access all the elements together as shown. We can also get a list of individual\n",
    "elements by looping through the set.\n"
   ]
  },
  {
   "cell_type": "code",
   "execution_count": 13,
   "id": "c99fb993-5df8-4d46-a073-9e2abe86143c",
   "metadata": {},
   "outputs": [
    {
     "name": "stdout",
     "output_type": "stream",
     "text": [
      "Thu\n",
      "Tue\n",
      "Sat\n",
      "Fri\n",
      "Mon\n",
      "Wed\n",
      "Sun\n"
     ]
    }
   ],
   "source": [
    "Days={\"Mon\",\"Tue\",\"Wed\",\"Thu\",\"Fri\",\"Sat\",\"Sun\"}\n",
    "for d in Days:\n",
    "    print(d)\n"
   ]
  },
  {
   "cell_type": "code",
   "execution_count": 14,
   "id": "4ff06a92-07bb-4bb2-ab0f-4ccfb79bb6fc",
   "metadata": {},
   "outputs": [],
   "source": [
    "#set operations\n",
    "#Union: combines elements from two sets excluding duplicates\n",
    "#Intersection: only common elements btw sets\n",
    "#difference: return the elements that is present in first set and not in second\n",
    "#symmetric difference: returns elements that are present in either of sets but not in both"
   ]
  },
  {
   "cell_type": "code",
   "execution_count": 15,
   "id": "53a465a2-cc44-464e-9afd-de32cb3a74a5",
   "metadata": {},
   "outputs": [],
   "source": [
    "s1 = {\"hiking\", \"reading\", \"coding\"}\n",
    "s2 = {\"coding\", \"photography\", \"travelling\"}"
   ]
  },
  {
   "cell_type": "code",
   "execution_count": 18,
   "id": "34b9b2f4-bb64-48bc-857d-4ed10f0e9815",
   "metadata": {},
   "outputs": [
    {
     "data": {
      "text/plain": [
       "{'coding', 'hiking', 'reading'}"
      ]
     },
     "execution_count": 18,
     "metadata": {},
     "output_type": "execute_result"
    }
   ],
   "source": [
    "s1"
   ]
  },
  {
   "cell_type": "code",
   "execution_count": 19,
   "id": "1107d267-c620-40d9-872f-b3d1024e15c0",
   "metadata": {},
   "outputs": [
    {
     "data": {
      "text/plain": [
       "{'coding', 'photography', 'travelling'}"
      ]
     },
     "execution_count": 19,
     "metadata": {},
     "output_type": "execute_result"
    }
   ],
   "source": [
    "s2"
   ]
  },
  {
   "cell_type": "code",
   "execution_count": 20,
   "id": "8e43b7f1-2617-4bb7-89dd-c37903395974",
   "metadata": {},
   "outputs": [
    {
     "data": {
      "text/plain": [
       "{'coding', 'hiking', 'photography', 'reading', 'travelling'}"
      ]
     },
     "execution_count": 20,
     "metadata": {},
     "output_type": "execute_result"
    }
   ],
   "source": [
    "#union>> combine all the elements\n",
    "s1 | s2"
   ]
  },
  {
   "cell_type": "code",
   "execution_count": 21,
   "id": "cdc10821-d3cb-4c04-bd14-28fcf597d3d7",
   "metadata": {},
   "outputs": [
    {
     "data": {
      "text/plain": [
       "{'coding'}"
      ]
     },
     "execution_count": 21,
     "metadata": {},
     "output_type": "execute_result"
    }
   ],
   "source": [
    "#intersection >> common elements\n",
    "s1 & s2"
   ]
  },
  {
   "cell_type": "code",
   "execution_count": 22,
   "id": "a181e75d-62b4-4f05-840c-0a8a4091d748",
   "metadata": {},
   "outputs": [
    {
     "data": {
      "text/plain": [
       "{'hiking', 'reading'}"
      ]
     },
     "execution_count": 22,
     "metadata": {},
     "output_type": "execute_result"
    }
   ],
   "source": [
    "#difference\n",
    "s1-s2"
   ]
  },
  {
   "cell_type": "code",
   "execution_count": 23,
   "id": "9c64da2c-9db1-43a9-9c44-f1730bec9aea",
   "metadata": {},
   "outputs": [
    {
     "data": {
      "text/plain": [
       "{'hiking', 'photography', 'reading', 'travelling'}"
      ]
     },
     "execution_count": 23,
     "metadata": {},
     "output_type": "execute_result"
    }
   ],
   "source": [
    "#symmetric difference\n",
    "s1 ^ s2"
   ]
  },
  {
   "cell_type": "code",
   "execution_count": 24,
   "id": "4e14be4e-9e9b-4962-8eb3-ce4428b26c38",
   "metadata": {},
   "outputs": [],
   "source": [
    "#frozen sets>>immutable version of set, cannot be added or removed any new element\n",
    "my_fs = frozenset([1, 2, 2, 2, 3, 3, 4, 5])"
   ]
  },
  {
   "cell_type": "code",
   "execution_count": 25,
   "id": "6d67e068-18fc-4104-a959-5a0bd80541d9",
   "metadata": {},
   "outputs": [
    {
     "data": {
      "text/plain": [
       "frozenset({1, 2, 3, 4, 5})"
      ]
     },
     "execution_count": 25,
     "metadata": {},
     "output_type": "execute_result"
    }
   ],
   "source": [
    "my_fs"
   ]
  },
  {
   "cell_type": "code",
   "execution_count": 26,
   "id": "ca4bf194-1c3a-4ff9-b437-584d7463a2a7",
   "metadata": {},
   "outputs": [
    {
     "data": {
      "text/plain": [
       "frozenset"
      ]
     },
     "execution_count": 26,
     "metadata": {},
     "output_type": "execute_result"
    }
   ],
   "source": [
    "type(my_fs)"
   ]
  },
  {
   "cell_type": "code",
   "execution_count": 29,
   "id": "698d479c-0563-4173-87b9-d0b2a6c9b27e",
   "metadata": {},
   "outputs": [
    {
     "ename": "AttributeError",
     "evalue": "'frozenset' object has no attribute 'add'",
     "output_type": "error",
     "traceback": [
      "\u001b[0;31m---------------------------------------------------------------------------\u001b[0m",
      "\u001b[0;31mAttributeError\u001b[0m                            Traceback (most recent call last)",
      "Cell \u001b[0;32mIn[29], line 1\u001b[0m\n\u001b[0;32m----> 1\u001b[0m \u001b[43mmy_fs\u001b[49m\u001b[38;5;241;43m.\u001b[39;49m\u001b[43madd\u001b[49m(\u001b[38;5;241m6\u001b[39m)\n",
      "\u001b[0;31mAttributeError\u001b[0m: 'frozenset' object has no attribute 'add'"
     ]
    }
   ],
   "source": [
    "my_fs.add(6)"
   ]
  },
  {
   "cell_type": "code",
   "execution_count": 28,
   "id": "25025d97-2278-471a-ad58-02dee8ce9e45",
   "metadata": {},
   "outputs": [
    {
     "ename": "AttributeError",
     "evalue": "'frozenset' object has no attribute 'pop'",
     "output_type": "error",
     "traceback": [
      "\u001b[0;31m---------------------------------------------------------------------------\u001b[0m",
      "\u001b[0;31mAttributeError\u001b[0m                            Traceback (most recent call last)",
      "Cell \u001b[0;32mIn[28], line 1\u001b[0m\n\u001b[0;32m----> 1\u001b[0m \u001b[43mmy_fs\u001b[49m\u001b[38;5;241;43m.\u001b[39;49m\u001b[43mpop\u001b[49m()\n",
      "\u001b[0;31mAttributeError\u001b[0m: 'frozenset' object has no attribute 'pop'"
     ]
    }
   ],
   "source": [
    "my_fs.pop()"
   ]
  },
  {
   "cell_type": "markdown",
   "id": "fe0f5816-8edf-4109-94f6-015b96effc30",
   "metadata": {},
   "source": [
    "# 6.Discuss the use cases of tuples and sets in Python programming"
   ]
  },
  {
   "cell_type": "markdown",
   "id": "85edb976-216f-451d-8fb6-bf87685f3400",
   "metadata": {},
   "source": [
    "#### use case of tuple with example"
   ]
  },
  {
   "cell_type": "markdown",
   "id": "a27168d6-a211-4123-968c-7c13b4e9fe3e",
   "metadata": {},
   "source": [
    "Tuples >>--\n",
    "\n",
    "Immutable: Fixed-size, cannot be changed after creation.\n",
    "\n",
    "Use Cases >>--\n",
    "\n",
    "Fixed Data: Storing unchanging data like coordinates.\n",
    "Multiple Return Values: Functions returning multiple values as a tuple.\n",
    "Dictionary Keys: Can be used as dictionary keys if all elements are hashable.\n",
    "Data Grouping: Grouping related data."
   ]
  },
  {
   "cell_type": "code",
   "execution_count": 34,
   "id": "f61ca978-d7a5-4ff3-a3fc-638070f022f2",
   "metadata": {},
   "outputs": [
    {
     "name": "stdout",
     "output_type": "stream",
     "text": [
      "Latitude: 40.7128, Longitude: -74.006\n"
     ]
    }
   ],
   "source": [
    "# Example\n",
    "\n",
    "# Tuple for storing geographic coordinates\n",
    "coordinates = (40.7128, -74.0060) \n",
    "\n",
    "# Accessing elements\n",
    "latitude = coordinates[0]\n",
    "longitude = coordinates[1]\n",
    "\n",
    "print(f\"Latitude: {latitude}, Longitude: {longitude}\")\n",
    "\n"
   ]
  },
  {
   "cell_type": "markdown",
   "id": "b402472a-39a3-4faa-92de-2bc582153cc7",
   "metadata": {},
   "source": [
    "Sets >>--\n",
    "\n",
    "Mutable: Can add or remove elements.\n",
    "Unordered: No duplicates, elements are unique.\n",
    "\n",
    "Use Cases >>--\n",
    "\n",
    "Removing Duplicates: Convert lists to sets to eliminate duplicates.\n",
    "Membership Testing: Efficiently check if an element is in the set.\n",
    "Set Operations: Perform union, intersection, and difference operations.\n",
    "Unique Collections: Track unique items."
   ]
  },
  {
   "cell_type": "code",
   "execution_count": 35,
   "id": "52cdbcb7-13a1-4ff4-a382-27a7ddc10b63",
   "metadata": {},
   "outputs": [
    {
     "name": "stdout",
     "output_type": "stream",
     "text": [
      "Unique User IDs: {101, 102, 103, 104, 105}\n"
     ]
    }
   ],
   "source": [
    "# Example\n",
    "\n",
    "# List with duplicate user IDs\n",
    "user_ids = [101, 102, 103, 102, 104, 105, 103]\n",
    "\n",
    "# Convert to set to remove duplicates\n",
    "unique_user_ids = set(user_ids)\n",
    "\n",
    "print(\"Unique User IDs:\", unique_user_ids)\n"
   ]
  },
  {
   "cell_type": "markdown",
   "id": "3b4adbfc-1032-4c4d-8fea-62ade5f5082c",
   "metadata": {},
   "source": [
    "# 7.Describe how to add, modify and delete items in a dictionary with examples"
   ]
  },
  {
   "cell_type": "markdown",
   "id": "b3e9ef68-c7b3-4ead-8b3b-d6caf25126c8",
   "metadata": {},
   "source": [
    "#### Adding Elements In a Dictionary >.--"
   ]
  },
  {
   "cell_type": "markdown",
   "id": "491e7b75-e22c-4377-a6e6-5bd1e78e9a0f",
   "metadata": {},
   "source": [
    "Since a dictionary is mutable, we can add or delete entries from the dictionary. This is particularly useful if we have to maintain a dynamic data structure. To assign a value corresponding to a given key (This includes over-writing the value present in the key or adding a new key-value pair), we can use the square bracket operators to simply assign the value to a key.\n"
   ]
  },
  {
   "cell_type": "code",
   "execution_count": 43,
   "id": "9cff286f-c0f9-48be-8449-b5d223704caa",
   "metadata": {},
   "outputs": [
    {
     "name": "stdout",
     "output_type": "stream",
     "text": [
      "{2: 1, 3: 4, 4: 3}\n"
     ]
    }
   ],
   "source": [
    "# Example\n",
    "bar= {2:1,3:2,4:3}\n",
    "bar[3]=4\n",
    "# This operation updates the value of the key 3 to a new value i.e. 4.\n",
    "print(bar)\n"
   ]
  },
  {
   "cell_type": "code",
   "execution_count": 44,
   "id": "48e30f40-0619-428c-938f-29e15ac91ae3",
   "metadata": {},
   "outputs": [
    {
     "name": "stdout",
     "output_type": "stream",
     "text": [
      "{2: 1, 3: 4, 4: 3, 'man': 'boy'}\n"
     ]
    }
   ],
   "source": [
    "bar[\"man\"]=\"boy\" # add a key-value pair\n",
    "print(bar)\n"
   ]
  },
  {
   "cell_type": "code",
   "execution_count": 45,
   "id": "1898c51e-d11a-4bff-b07e-221e396e1d5c",
   "metadata": {},
   "outputs": [
    {
     "name": "stdout",
     "output_type": "stream",
     "text": [
      "{1: 2, 2: 3, 3: 4, 7: 2, 10: 3, 6: 4}\n"
     ]
    }
   ],
   "source": [
    "# Adding or concatenation of two dictionaries:\n",
    "\n",
    "a= {1:2,2:3,3:4}\n",
    "b= {7:2,10:3,6:4}\n",
    "a.update(b)\n",
    "print(a)"
   ]
  },
  {
   "cell_type": "markdown",
   "id": "3ccb90ff-640b-4cd6-afc3-fa3d35047ed2",
   "metadata": {},
   "source": [
    "#### Modifying element in dictionaries"
   ]
  },
  {
   "cell_type": "markdown",
   "id": "dd2d8b64-ed3b-4d4c-95aa-9f4c405a843a",
   "metadata": {},
   "source": [
    "You can modify the values associated with a specific key in a dictionary"
   ]
  },
  {
   "cell_type": "code",
   "execution_count": 48,
   "id": "74aa2a8e-d2f2-4e4d-ad2a-a65fdcd33b36",
   "metadata": {},
   "outputs": [
    {
     "name": "stdout",
     "output_type": "stream",
     "text": [
      "{'Nadeem': {'age': 23, 'city': 'New Delhi'}, 'Rehan': {'age': 25, 'city': 'Noida'}, 'charlie': {'age': 35, 'city': 'Chicago', 'occupation': 'Engineer'}}\n"
     ]
    }
   ],
   "source": [
    "# Example\n",
    "\n",
    "profiles = {\n",
    "    \"Nadeem\": {\"age\": 22, \"city\": \"New Delhi\"},\n",
    "    \"Rehan\": {\"age\": 25, \"city\": \"Noida\"},\n",
    "    \"charlie\": {\"age\": 35, \"city\": \"Chicago\"}\n",
    "}\n",
    "\n",
    "# Updating the age of 'Nadeem'\n",
    "profiles[\"Nadeem\"][\"age\"] = 23\n",
    "\n",
    "# Adding a new key-value pair to 'charlie'\n",
    "profiles[\"charlie\"][\"occupation\"] = \"Engineer\"\n",
    "\n",
    "print(profiles)\n"
   ]
  },
  {
   "cell_type": "markdown",
   "id": "d33aa0f8-2f32-4899-b05e-2c5910e48ba7",
   "metadata": {},
   "source": [
    "#### Deleting item in dictionary"
   ]
  },
  {
   "cell_type": "markdown",
   "id": "c6d91324-4870-4bfa-9ce2-22d6b2334a5d",
   "metadata": {},
   "source": [
    "Deleting an entry:\n",
    "\n",
    "In order to delete an entry corresponding to any key in a dictionary , we can simple pop the key from the dictionary. The method used here is .pop() . This method removes the key-value pair corresponding to any particular key and then returns the value of the removed key-value pair"
   ]
  },
  {
   "cell_type": "code",
   "execution_count": 50,
   "id": "6f89870c-63d8-4b18-b9ce-80485a9db245",
   "metadata": {},
   "outputs": [
    {
     "data": {
      "text/plain": [
       "(3, 23, 3)"
      ]
     },
     "execution_count": 50,
     "metadata": {},
     "output_type": "execute_result"
    }
   ],
   "source": [
    "# Example\n",
    "\n",
    "c={1:2,2:(3,23,3),3:4}\n",
    "c.pop(2)\n"
   ]
  },
  {
   "cell_type": "code",
   "execution_count": 51,
   "id": "17dcab84-53dc-46fa-9271-32c14fbcff47",
   "metadata": {},
   "outputs": [
    {
     "name": "stdout",
     "output_type": "stream",
     "text": [
      "{1: 2, 3: 4}\n"
     ]
    }
   ],
   "source": [
    "print(c)"
   ]
  },
  {
   "cell_type": "markdown",
   "id": "8afcd6b4-117b-4b29-a19e-6e6a94c75ea6",
   "metadata": {},
   "source": [
    "Deleting all the entries from the dictionary:\n",
    "\n",
    "If we want to clear all the key-value pairs from the given dictionary and thus convert it into an empty dictionary we can use the .clear() method."
   ]
  },
  {
   "cell_type": "code",
   "execution_count": 53,
   "id": "56e51440-bd2a-490f-b9bc-cb598e88e566",
   "metadata": {},
   "outputs": [
    {
     "name": "stdout",
     "output_type": "stream",
     "text": [
      "{}\n"
     ]
    }
   ],
   "source": [
    "# example\n",
    "\n",
    "c={1:2,2:(3,23,3),3:4}\n",
    "c.clear()\n",
    "print(c)"
   ]
  },
  {
   "cell_type": "markdown",
   "id": "bbe1c067-2509-4029-972a-4b88845c957b",
   "metadata": {},
   "source": [
    "#  8. Discuss the importance of dictionary keys being immutable and provide examples"
   ]
  },
  {
   "cell_type": "markdown",
   "id": "f2b5a362-7573-40fc-b555-21108d4c8cb5",
   "metadata": {},
   "source": [
    "Importance of Immutable Keys >>--\n",
    "\n",
    "1. Hashability:\n",
    "Dictionary keys are used to compute hash values, which allows Python to quickly locate values. An immutable key guarantees that its hash value remains constant.\n",
    "\n",
    "2. Data Integrity:\n",
    "Immutable keys ensure that once a key-value pair is added to the dictionary, the key cannot be altered, preventing potential data corruption or inconsistencies"
   ]
  },
  {
   "cell_type": "code",
   "execution_count": 54,
   "id": "d3f0ecc1-8dd6-47b2-b253-7fd931183316",
   "metadata": {},
   "outputs": [
    {
     "name": "stdout",
     "output_type": "stream",
     "text": [
      "New York City\n",
      "{(40.7128, -74.006): 'New York City', (34.0522, -118.2437): 'Los Angeles', (41.8781, -87.6298): 'Chicago', (37.7749, -122.4194): 'San Francisco'}\n"
     ]
    }
   ],
   "source": [
    "# Using Immutable Keys\n",
    "\n",
    "# Dictionary with tuples as keys\n",
    "locations = {\n",
    "    (40.7128, -74.0060): \"New York City\",\n",
    "    (34.0522, -118.2437): \"Los Angeles\",\n",
    "    (41.8781, -87.6298): \"Chicago\"\n",
    "}\n",
    "\n",
    "# Accessing a value using an immutable key (tuple)\n",
    "print(locations[(40.7128, -74.0060)]) \n",
    "\n",
    "# Adding a new entry\n",
    "locations[(37.7749, -122.4194)] = \"San Francisco\"\n",
    "print(locations)\n"
   ]
  },
  {
   "cell_type": "code",
   "execution_count": 57,
   "id": "cfa728c1-0b6e-449b-a883-9054106ac9f7",
   "metadata": {},
   "outputs": [
    {
     "name": "stdout",
     "output_type": "stream",
     "text": [
      "Error: unhashable type: 'list'\n"
     ]
    }
   ],
   "source": [
    "# using mutable key\n",
    "\n",
    "# Attempting to use a list as a dictionary key (will raise an error)\n",
    "try:\n",
    "    my_dict = {[1, 2, 3]: \"value\"}  # Lists are mutable, so this will fail\n",
    "except TypeError as e:\n",
    "    print(\"Error:\", e)  \n"
   ]
  },
  {
   "cell_type": "markdown",
   "id": "d8f33e0b-4db4-4407-846b-14ed6eac6ce4",
   "metadata": {},
   "source": [
    "Lists are mutable, so you cannot use them as dictionary keys. Trying to do so results in a TypeError."
   ]
  }
 ],
 "metadata": {
  "kernelspec": {
   "display_name": "Python 3 (ipykernel)",
   "language": "python",
   "name": "python3"
  },
  "language_info": {
   "codemirror_mode": {
    "name": "ipython",
    "version": 3
   },
   "file_extension": ".py",
   "mimetype": "text/x-python",
   "name": "python",
   "nbconvert_exporter": "python",
   "pygments_lexer": "ipython3",
   "version": "3.10.8"
  }
 },
 "nbformat": 4,
 "nbformat_minor": 5
}
