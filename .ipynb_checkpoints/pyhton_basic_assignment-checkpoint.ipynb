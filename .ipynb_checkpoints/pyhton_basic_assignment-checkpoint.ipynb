{
 "cells": [
  {
   "cell_type": "markdown",
   "id": "240ad7e3-a66d-43f3-8abe-21cbec7de11f",
   "metadata": {},
   "source": [
    "## python_basic_assignment\n"
   ]
  },
  {
   "cell_type": "markdown",
   "id": "2d1b55c1-3f15-4dac-9b63-5a744efb5694",
   "metadata": {},
   "source": [
    "#1.  Explain the key featu$es of Python that make it a popular choice for programming\n",
    " Ans:- \n",
    "Python is a popular programming language for several reasons.\n",
    "1. Readability\n",
    "2. Large standard library\n",
    "3. Interpreted language\n",
    "4. Object-Oriented and functional prgraming\n",
    "\n",
    "\n",
    "\n",
    "\n",
    "\n",
    "\n"
   ]
  },
  {
   "cell_type": "markdown",
   "id": "8f399758-ccc0-4514-b924-70361dd8178d",
   "metadata": {},
   "source": [
    "#2 Describe the role of predefined keywords in Python and provide examples of how they are used in a program.\n",
    "\n",
    "Ans:-\n",
    "\n",
    "\n"
   ]
  }
 ],
 "metadata": {
  "kernelspec": {
   "display_name": "Python 3 (ipykernel)",
   "language": "python",
   "name": "python3"
  },
  "language_info": {
   "codemirror_mode": {
    "name": "ipython",
    "version": 3
   },
   "file_extension": ".py",
   "mimetype": "text/x-python",
   "name": "python",
   "nbconvert_exporter": "python",
   "pygments_lexer": "ipython3",
   "version": "3.10.8"
  }
 },
 "nbformat": 4,
 "nbformat_minor": 5
}
