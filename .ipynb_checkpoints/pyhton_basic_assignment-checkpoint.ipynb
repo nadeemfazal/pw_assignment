{
 "cells": [
  {
   "cell_type": "markdown",
   "id": "240ad7e3-a66d-43f3-8abe-21cbec7de11f",
   "metadata": {},
   "source": [
    "## python_basic_assignment\n"
   ]
  },
  {
   "cell_type": "markdown",
   "id": "2d1b55c1-3f15-4dac-9b63-5a744efb5694",
   "metadata": {},
   "source": [
    "# 1.  Explain the key features of Python that make it a popular choice for programming\n",
    "\n",
    "\n",
    "\n",
    "\n",
    "\n",
    "\n",
    "\n"
   ]
  },
  {
   "cell_type": "markdown",
   "id": "c1834623-dac9-4560-ad76-bb7b46763269",
   "metadata": {},
   "source": [
    " Ans:- \n",
    "Python is a popular programming language for several reasons.\n",
    "1. Readability\n",
    "2. Large standard library\n",
    "3. Interpreted language\n",
    "4. Object-Oriented and functional prgraming"
   ]
  },
  {
   "cell_type": "markdown",
   "id": "e56dc97b-98e6-4aff-bc21-46801b21d96e",
   "metadata": {},
   "source": [
    "# 2. Describe the role of predefined keywords in Python and provide examples of how they are used in a program."
   ]
  },
  {
   "cell_type": "markdown",
   "id": "e2b7bd6a-7a4a-4a10-8cdc-e33172396256",
   "metadata": {},
   "source": [
    "ans:-\n",
    "Keywords are used to declare variables, create functions, and control the flow of information in a program. They are also used to identify the scope of variables, define classes, and control the flow of execution.\n",
    "\n",
    "examples for predefined key word is following"
   ]
  },
  {
   "cell_type": "code",
   "execution_count": 8,
   "id": "4bfb65fa-6a0a-4fd0-bcaf-2c08b856a213",
   "metadata": {},
   "outputs": [
    {
     "name": "stdout",
     "output_type": "stream",
     "text": [
      "Adult\n"
     ]
    }
   ],
   "source": [
    "# if, elif & else\n",
    "\n",
    "age = 20\n",
    "if age >= 18:\n",
    "    print(\"Adult\")\n",
    "else:\n",
    "    print(\"Minor\")"
   ]
  },
  {
   "cell_type": "code",
   "execution_count": 9,
   "id": "8f33e9e6-4ed6-4ad6-b08b-b4cecc2b0a21",
   "metadata": {},
   "outputs": [
    {
     "name": "stdout",
     "output_type": "stream",
     "text": [
      "*\n",
      "**\n",
      "***\n",
      "****\n"
     ]
    }
   ],
   "source": [
    "# Loops >> for loop\n",
    "\n",
    "for i in range(4):\n",
    "    for j in range(i+1):\n",
    "        print(\"*\", end = \"\")\n",
    "    print()\n",
    "\n"
   ]
  },
  {
   "cell_type": "code",
   "execution_count": 10,
   "id": "4ef07885-b439-463c-b01e-6bcd445b6954",
   "metadata": {},
   "outputs": [
    {
     "name": "stdout",
     "output_type": "stream",
     "text": [
      "*\n",
      "**\n",
      "***\n",
      "****\n"
     ]
    }
   ],
   "source": [
    "#  >> while loop\n",
    "row = 1\n",
    "while row <= 4:\n",
    "    col = 1\n",
    "    while col <= row:\n",
    "        print(\"*\", end = \"\")\n",
    "        col += 1\n",
    "    print()\n",
    "    row += 1"
   ]
  },
  {
   "cell_type": "code",
   "execution_count": 11,
   "id": "8df190fa-9338-4d2f-910f-d2937af2a743",
   "metadata": {
    "jupyter": {
     "source_hidden": true
    },
    "tags": []
   },
   "outputs": [
    {
     "name": "stdout",
     "output_type": "stream",
     "text": [
      "Hello, Alice\n"
     ]
    }
   ],
   "source": [
    "# function keyword\n",
    "\n",
    "def greet(name):\n",
    "    return f\"Hello, {name}\"\n",
    "\n",
    "print(greet(\"Alice\"))"
   ]
  },
  {
   "cell_type": "markdown",
   "id": "f40c3011-3a2e-4d44-ab8a-6bec490d5f21",
   "metadata": {},
   "source": [
    "# 3.Compare and contrast mutable and immutable objects in Python with examples"
   ]
  },
  {
   "cell_type": "markdown",
   "id": "57f736f7-1da9-4e5a-8f45-a31363f442e9",
   "metadata": {},
   "source": [
    "ans:-\n",
    "\n",
    "In Python, objects are categorized into two main types based on their mutability: mutable and immutable. Here’s a comparison of the two, along with examples to illustrate their differences.\n",
    "\n",
    "Mutable Objects\n",
    "Definition: Mutable objects can be changed after their creation. This means you can modify their content without creating a new object.\n",
    "examples - List, dictionaries, sets\n",
    "\n",
    "Immutable Objects\n",
    "Definition: Immutable objects cannot be changed once they are created. Any modification results in the creation of a new object.\n",
    "\n",
    "examples- Tuple, string, Numbers\n",
    "\n"
   ]
  },
  {
   "cell_type": "markdown",
   "id": "237bd511-3a14-4f70-8740-86432cfdc752",
   "metadata": {},
   "source": [
    "### examples for mutble objects"
   ]
  },
  {
   "cell_type": "code",
   "execution_count": 12,
   "id": "f70ba8ca-9d73-4720-ae70-c6be69867c1e",
   "metadata": {},
   "outputs": [
    {
     "name": "stdout",
     "output_type": "stream",
     "text": [
      "[1, 2, 3]\n",
      "[10, 2, 3]\n"
     ]
    }
   ],
   "source": [
    "# list\n",
    "li = [1, 2, 3]\n",
    "print(li) \n",
    "\n",
    "li[0] = 10\n",
    "print(li) "
   ]
  },
  {
   "cell_type": "code",
   "execution_count": 13,
   "id": "51442285-c4ec-4656-8d78-3423527c4c03",
   "metadata": {},
   "outputs": [
    {
     "name": "stdout",
     "output_type": "stream",
     "text": [
      "{'a': 1, 'b': 'Nadeem'}\n",
      "{'a': 'pwskills', 'b': 'Nadeem'}\n"
     ]
    }
   ],
   "source": [
    "# Dict\n",
    "my_dict = {'a': 1, 'b': \"Nadeem\"}\n",
    "print(my_dict)  \n",
    "\n",
    "my_dict['a'] = \"pwskills\"\n",
    "print(my_dict)  \n"
   ]
  },
  {
   "cell_type": "markdown",
   "id": "af921b2c-a124-4959-8c7b-a7bfc9badb20",
   "metadata": {},
   "source": [
    "### Examples for imutable object"
   ]
  },
  {
   "cell_type": "code",
   "execution_count": 14,
   "id": "92a8e809-7160-4342-9fb4-ead33256b3f8",
   "metadata": {},
   "outputs": [
    {
     "name": "stdout",
     "output_type": "stream",
     "text": [
      "(1, 2, 'pwskills')\n"
     ]
    },
    {
     "ename": "TypeError",
     "evalue": "'tuple' object does not support item assignment",
     "output_type": "error",
     "traceback": [
      "\u001b[0;31m---------------------------------------------------------------------------\u001b[0m",
      "\u001b[0;31mTypeError\u001b[0m                                 Traceback (most recent call last)",
      "Cell \u001b[0;32mIn[14], line 6\u001b[0m\n\u001b[1;32m      2\u001b[0m my_tuple \u001b[38;5;241m=\u001b[39m (\u001b[38;5;241m1\u001b[39m, \u001b[38;5;241m2\u001b[39m, \u001b[38;5;124m\"\u001b[39m\u001b[38;5;124mpwskills\u001b[39m\u001b[38;5;124m\"\u001b[39m)\n\u001b[1;32m      3\u001b[0m \u001b[38;5;28mprint\u001b[39m(my_tuple) \n\u001b[0;32m----> 6\u001b[0m \u001b[43mmy_tuple\u001b[49m\u001b[43m[\u001b[49m\u001b[38;5;241;43m0\u001b[39;49m\u001b[43m]\u001b[49m \u001b[38;5;241m=\u001b[39m \u001b[38;5;241m10\u001b[39m \n",
      "\u001b[0;31mTypeError\u001b[0m: 'tuple' object does not support item assignment"
     ]
    }
   ],
   "source": [
    "# tuple\n",
    "my_tuple = (1, 2, \"pwskills\")\n",
    "print(my_tuple) \n",
    "\n",
    "\n",
    "my_tuple[0] = 10 "
   ]
  },
  {
   "cell_type": "code",
   "execution_count": 15,
   "id": "96922ceb-d21a-4159-833e-d902efc07468",
   "metadata": {},
   "outputs": [
    {
     "name": "stdout",
     "output_type": "stream",
     "text": [
      "hello\n",
      "hallo\n"
     ]
    }
   ],
   "source": [
    "# string\n",
    "a  = \"hello\"\n",
    "print(a)  \n",
    "\n",
    "# Attempting to modify a string results in a new string\n",
    "b= a.replace('e', 'a')\n",
    "print(b)       "
   ]
  },
  {
   "cell_type": "code",
   "execution_count": 16,
   "id": "43b5d9dd-42bd-4935-8915-3ed7753b709d",
   "metadata": {},
   "outputs": [
    {
     "data": {
      "text/plain": [
       "131833814180848"
      ]
     },
     "execution_count": 16,
     "metadata": {},
     "output_type": "execute_result"
    }
   ],
   "source": [
    "id(a)"
   ]
  },
  {
   "cell_type": "code",
   "execution_count": 17,
   "id": "b5c01aae-88c5-4197-9a5b-19fbfa4fb76c",
   "metadata": {},
   "outputs": [
    {
     "data": {
      "text/plain": [
       "131833754716144"
      ]
     },
     "execution_count": 17,
     "metadata": {},
     "output_type": "execute_result"
    }
   ],
   "source": [
    "id(b)"
   ]
  },
  {
   "cell_type": "markdown",
   "id": "8525e2fe-81a4-47e2-91b2-5ab2a8b68941",
   "metadata": {},
   "source": [
    "# 4.Discuss the different types of operators in Python and provide examples of how they are used."
   ]
  },
  {
   "cell_type": "markdown",
   "id": "07aacb8f-0d75-4d93-a9c1-76612a37ca40",
   "metadata": {},
   "source": [
    "Operators are special symbols used to perform operations on variables and values. Python supports several types of operators, each serving a different purpose.\n",
    "\n",
    "Exaples\n"
   ]
  },
  {
   "cell_type": "markdown",
   "id": "05f65b93-0051-46f4-9d78-31903f259f4f",
   "metadata": {},
   "source": [
    "### Arithmatic operators"
   ]
  },
  {
   "cell_type": "code",
   "execution_count": 18,
   "id": "9defdef4-3e7e-469a-974e-93caf79d8625",
   "metadata": {},
   "outputs": [
    {
     "name": "stdout",
     "output_type": "stream",
     "text": [
      "8\n",
      "2\n",
      "15\n",
      "1.6666666666666667\n",
      "1\n",
      "2\n",
      "125\n"
     ]
    }
   ],
   "source": [
    "\n",
    "x = 5\n",
    "y = 3\n",
    "# addition\n",
    "print(x + y) \n",
    "# substraction\n",
    "print(x - y)\n",
    "# multiplication\n",
    "print(x * y) \n",
    "# division\n",
    "print(x / y)\n",
    "# floor division/\n",
    "print(x // y)\n",
    "# modulus\n",
    "print(x % y) \n",
    "# Exponentiation\n",
    "print(x ** y) "
   ]
  },
  {
   "cell_type": "markdown",
   "id": "5f6a9526-317f-426c-963e-269f39580264",
   "metadata": {},
   "source": [
    "### Comparison Operators"
   ]
  },
  {
   "cell_type": "code",
   "execution_count": 19,
   "id": "cefddc14-ec11-4cfa-a73a-5850bbea9cae",
   "metadata": {},
   "outputs": [
    {
     "name": "stdout",
     "output_type": "stream",
     "text": [
      "False\n",
      "True\n",
      "False\n",
      "True\n",
      "True\n",
      "False\n"
     ]
    }
   ],
   "source": [
    "\n",
    "x = 6\n",
    "y = 8\n",
    "print(x==y)  # equal to\n",
    "print(x!=y)  # not eual to\n",
    "print(x>y)  # greater than\n",
    "print(x<y)  #less tham\n",
    "print(x<=y) # less than equal to\n",
    "print(x>=y) #greater than equal to"
   ]
  },
  {
   "cell_type": "markdown",
   "id": "2b475620-a101-4336-bb4e-3e65ad992e36",
   "metadata": {},
   "source": [
    "### Logical Operators"
   ]
  },
  {
   "cell_type": "code",
   "execution_count": 20,
   "id": "65b39c51-f95f-4f46-9fce-845be4ec1ea5",
   "metadata": {},
   "outputs": [
    {
     "name": "stdout",
     "output_type": "stream",
     "text": [
      "True\n",
      "True\n",
      "False\n",
      "False\n"
     ]
    }
   ],
   "source": [
    "a = True\n",
    "b = False\n",
    "print(a | b) \n",
    "print(a or b)\n",
    "print(a & b) \n",
    "print(a and b)"
   ]
  },
  {
   "cell_type": "markdown",
   "id": "624a0115-d02b-46c8-a9d1-b4ee9dfd9451",
   "metadata": {},
   "source": [
    "### Assignment Operators"
   ]
  },
  {
   "cell_type": "raw",
   "id": "9d05eb65-a4c7-41fd-9c60-8cc3709ef47e",
   "metadata": {},
   "source": [
    "### Initial value\n",
    "x = 10\n",
    "\n",
    "Simple assignment  \n",
    "  x = 5  # x is now 5\n",
    "\n",
    "Add and assign\n",
    "x += 3  # x is now 8 (5 + 3)\n",
    "\n",
    "Subtract and assign\n",
    "x -= 2  # x is now 6 (8 - 2)\n",
    "\n",
    "Multiply and assign\n",
    "x *= 4  # x is now 24 (6 * 4)\n",
    "\n",
    "Divide and assign\n",
    "x /= 3  # x is now 8.0 (24 / 3)\n",
    "\n",
    "Modulus and assign\n",
    "x %= 5  # x is now 3.0 (8 % 5)\n",
    "\n",
    "Floor division and assign\n",
    "x //= 2  # x is now 1.0 (3 // 2)\n",
    "\n",
    "Exponent and assign\n",
    "x **= 3  # x is now 1.0 (1 ** 3)\n",
    "\n",
    "Bitwise AND and assign\n",
    "x &= 2  # x is now 0 (1 & 2)\n",
    "\n",
    "Bitwise OR and assign\n",
    "x |= 2  # x is now 2 (0 | 2)\n",
    "\n",
    "Bitwise XOR and assign\n",
    "x ^= 1  # x is now 3 (2 ^ 1)\n",
    "\n",
    "Bitwise right shift and assign\n",
    "x >>= 1  # x is now 1 (3 >> 1)\n",
    "\n",
    "Bitwise left shift and assign\n",
    "x <<= 2  # x is now 4 (1 << 2)\n"
   ]
  },
  {
   "cell_type": "markdown",
   "id": "7949a6ba-cd97-48bd-8031-7476d7986da4",
   "metadata": {},
   "source": [
    "### Bitwise Operators"
   ]
  },
  {
   "cell_type": "code",
   "execution_count": 21,
   "id": "663b7e19-7932-4874-88f3-6804d8225178",
   "metadata": {},
   "outputs": [
    {
     "name": "stdout",
     "output_type": "stream",
     "text": [
      "8\n",
      "9\n",
      "1\n",
      "4096\n",
      "0\n"
     ]
    }
   ],
   "source": [
    "x = 8\n",
    "y = 9\n",
    "\n",
    "# Bitwise AND\n",
    "print(x & y )\n",
    "\n",
    "# Bitwise OR\n",
    "print(x | y)\n",
    "\n",
    "# Bitwise XOR\n",
    "print(x ^ y)\n",
    "\n",
    "\n",
    "# Left shift\n",
    "print(x << y)\n",
    "\n",
    "# Right shift\n",
    "print(x >> y)\n"
   ]
  },
  {
   "cell_type": "markdown",
   "id": "72e64a23-6d12-4a26-8144-3cd41c48a1fe",
   "metadata": {},
   "source": [
    "# 5. Explain the concept of type casting in Python with examples."
   ]
  },
  {
   "cell_type": "markdown",
   "id": "20fb9a5a-6b7f-4001-bd2d-28ba3498c49f",
   "metadata": {},
   "source": [
    "Ans:-\n",
    "\n",
    "Type casting, or type conversion, is the process of changing a variable from one data type to another. In Python, this is often needed when you want to make sure your data is in the correct format for certain operations or functions. Python offers several built-in functions to help with type casting.\n",
    "\n",
    "\n"
   ]
  },
  {
   "cell_type": "markdown",
   "id": "0c6874fc-8a1f-4720-9304-24713927ec9e",
   "metadata": {},
   "source": [
    "### Examples"
   ]
  },
  {
   "cell_type": "code",
   "execution_count": 22,
   "id": "fc14ee70-d3da-4231-85e9-14f511e609bd",
   "metadata": {},
   "outputs": [
    {
     "data": {
      "text/plain": [
       "3"
      ]
     },
     "execution_count": 22,
     "metadata": {},
     "output_type": "execute_result"
    }
   ],
   "source": [
    "a = 3.14\n",
    "int(a) "
   ]
  },
  {
   "cell_type": "code",
   "execution_count": 23,
   "id": "fb0b6c80-62a3-4ffe-81b7-196f8a9177e0",
   "metadata": {},
   "outputs": [
    {
     "data": {
      "text/plain": [
       "42"
      ]
     },
     "execution_count": 23,
     "metadata": {},
     "output_type": "execute_result"
    }
   ],
   "source": [
    "str_num = \"42\"\n",
    "int(str_num)"
   ]
  },
  {
   "cell_type": "code",
   "execution_count": 24,
   "id": "267e74f0-7946-4de7-9bc5-724d5effed7a",
   "metadata": {},
   "outputs": [
    {
     "data": {
      "text/plain": [
       "1"
      ]
     },
     "execution_count": 24,
     "metadata": {},
     "output_type": "execute_result"
    }
   ],
   "source": [
    "flag = True\n",
    "int(flag)"
   ]
  },
  {
   "cell_type": "code",
   "execution_count": 25,
   "id": "84dcb5b4-7fba-44f8-8702-8dba6785590e",
   "metadata": {},
   "outputs": [
    {
     "data": {
      "text/plain": [
       "5.0"
      ]
     },
     "execution_count": 25,
     "metadata": {},
     "output_type": "execute_result"
    }
   ],
   "source": [
    "num = 5\n",
    "float(num)"
   ]
  },
  {
   "cell_type": "code",
   "execution_count": 26,
   "id": "80e53dd5-af74-444f-9d75-5f9ac515a9bf",
   "metadata": {},
   "outputs": [
    {
     "data": {
      "text/plain": [
       "3.14"
      ]
     },
     "execution_count": 26,
     "metadata": {},
     "output_type": "execute_result"
    }
   ],
   "source": [
    "str_num = \"3.14\"\n",
    "float(str_num)"
   ]
  },
  {
   "cell_type": "code",
   "execution_count": 27,
   "id": "8de9988f-1be9-40f8-9485-93a50398e63b",
   "metadata": {},
   "outputs": [
    {
     "data": {
      "text/plain": [
       "0.0"
      ]
     },
     "execution_count": 27,
     "metadata": {},
     "output_type": "execute_result"
    }
   ],
   "source": [
    "flag = False\n",
    "float(flag)"
   ]
  },
  {
   "cell_type": "code",
   "execution_count": 28,
   "id": "0e8f828f-7a6d-4952-a50c-363a199f9685",
   "metadata": {},
   "outputs": [
    {
     "data": {
      "text/plain": [
       "'100'"
      ]
     },
     "execution_count": 28,
     "metadata": {},
     "output_type": "execute_result"
    }
   ],
   "source": [
    "num = 100\n",
    "str(num)  "
   ]
  },
  {
   "cell_type": "code",
   "execution_count": 29,
   "id": "c269a832-4880-4e33-913a-ed0a4f60816f",
   "metadata": {},
   "outputs": [
    {
     "data": {
      "text/plain": [
       "'3.14'"
      ]
     },
     "execution_count": 29,
     "metadata": {},
     "output_type": "execute_result"
    }
   ],
   "source": [
    "num = 3.14\n",
    "str(num)  "
   ]
  },
  {
   "cell_type": "markdown",
   "id": "7f61026a-988d-43a9-9d03-3b6fcca10fbf",
   "metadata": {},
   "source": [
    "# 6.  How do conditional statements work in Python? Illustrate with examples."
   ]
  },
  {
   "cell_type": "markdown",
   "id": "b6fc03f0-2454-4cfe-8b0d-4e527b4b76a8",
   "metadata": {},
   "source": [
    "Ans:-\n",
    "\n",
    "Conditional statements in Python let you run different blocks of code depending on whether certain conditions are true or false. Python uses if, elif, and else to decide what code to run.\n",
    "\n",
    "if condition:\n",
    "    # Block of code executed if condition is True\n",
    "elif another_condition:\n",
    "    # Block of code executed if the above condition is False and this one is True\n",
    "else:\n",
    "    # Block of code executed if all previous conditions are False\n"
   ]
  },
  {
   "cell_type": "markdown",
   "id": "e7f8a3bc-7b4e-4403-8895-353889f45efd",
   "metadata": {},
   "source": [
    "### Examples"
   ]
  },
  {
   "cell_type": "code",
   "execution_count": 30,
   "id": "1957a846-7557-4844-a3c5-2c77e0d63e1c",
   "metadata": {},
   "outputs": [
    {
     "name": "stdin",
     "output_type": "stream",
     "text": [
      " 120\n"
     ]
    },
    {
     "name": "stdout",
     "output_type": "stream",
     "text": [
      "the number is greater than 100\n"
     ]
    }
   ],
   "source": [
    "a = int(input())\n",
    "if a > 100:\n",
    "    print(\"the number is greater than 100\")\n",
    "elif  a < 100:\n",
    "    print(\"the number is lesser than 100\")\n",
    "else:\n",
    "    print(\"the number is 100\")"
   ]
  },
  {
   "cell_type": "markdown",
   "id": "596a429b-7d55-41d8-b609-6679f47dd159",
   "metadata": {},
   "source": [
    "# 7. Describe the different types of loops in Python and their use cases with examples."
   ]
  },
  {
   "cell_type": "raw",
   "id": "691a4c2e-3dcc-4fa1-b312-2198484dd221",
   "metadata": {},
   "source": [
    "for Loop >>\n",
    "\n",
    "A for loop iterates over a sequence (such as a list, tuple, string, or range) and executes a block of code for each item in the sequence.\n",
    "\n",
    "syntax \n",
    "for variable in sequence:\n",
    "    # Block of code"
   ]
  },
  {
   "cell_type": "raw",
   "id": "9fcd9421-9bff-4f94-a7a0-cb596ae97390",
   "metadata": {},
   "source": [
    "Examples"
   ]
  },
  {
   "cell_type": "code",
   "execution_count": 31,
   "id": "fadaa7c9-add6-4d50-8ea4-685024efecb2",
   "metadata": {},
   "outputs": [
    {
     "name": "stdout",
     "output_type": "stream",
     "text": [
      "1\n",
      "2\n",
      "Nadeem\n",
      "pwskills\n",
      "This will be executed when while is run successfuly without any break\n"
     ]
    }
   ],
   "source": [
    "l = [1,2,\"Nadeem\",\"pwskills\"]\n",
    "for i in l:\n",
    "    print(i)\n",
    "else:\n",
    "    print(\"This will be executed when while is run successfuly without any break\")"
   ]
  },
  {
   "cell_type": "raw",
   "id": "bea7b45e-24b0-494b-bbda-f1ab8f6d5f40",
   "metadata": {},
   "source": [
    "while loop >>\n",
    "\n",
    " A while loop repeatedly executes a block of code as long as a specified condition remains True. \n",
    " \n",
    "syntax \n",
    "while condition:\n",
    "    # Block of code\n",
    "\n"
   ]
  },
  {
   "cell_type": "raw",
   "id": "47d8f26f-fbaf-4e26-993c-4c47fa003a1f",
   "metadata": {},
   "source": [
    "Example"
   ]
  },
  {
   "cell_type": "code",
   "execution_count": 32,
   "id": "0a055c0d-a423-4843-8015-fe1c6c2d813a",
   "metadata": {},
   "outputs": [
    {
     "name": "stdout",
     "output_type": "stream",
     "text": [
      "0\n",
      "1\n",
      "2\n",
      "3\n",
      "4\n"
     ]
    }
   ],
   "source": [
    "count = 0\n",
    "while count < 5:\n",
    "    print(count)\n",
    "    count += 1"
   ]
  },
  {
   "cell_type": "markdown",
   "id": "a3e5214e-8645-4534-a935-c921a134b3c6",
   "metadata": {},
   "source": [
    "### Use of Break and continue statement\n"
   ]
  },
  {
   "cell_type": "code",
   "execution_count": 36,
   "id": "cd2d0c3f-3efd-4eba-ae84-c883c67da6e2",
   "metadata": {},
   "outputs": [
    {
     "name": "stdout",
     "output_type": "stream",
     "text": [
      "1\n",
      "2\n"
     ]
    }
   ],
   "source": [
    "l = [1,2,\"Nadeem\",\"pwskills\"]\n",
    "for i in l:\n",
    "        if i == \"Nadeem\":\n",
    "            break\n",
    "        print(i)\n",
    "        "
   ]
  },
  {
   "cell_type": "code",
   "execution_count": 35,
   "id": "af66b598-a2fe-4809-b368-5b4158229928",
   "metadata": {},
   "outputs": [
    {
     "name": "stdout",
     "output_type": "stream",
     "text": [
      "1\n",
      "2\n",
      "pwskills\n",
      "This will be executed when while is run successfuly without any break\n"
     ]
    }
   ],
   "source": [
    " for i in l:\n",
    "        if i == \"Nadeem\":\n",
    "            continue\n",
    "        print(i)\n",
    "else:\n",
    "    print(\"This will be executed when while is run successfuly without any break\")"
   ]
  },
  {
   "cell_type": "code",
   "execution_count": null,
   "id": "bfc85609-e332-4cba-969c-b34800993cfb",
   "metadata": {},
   "outputs": [],
   "source": []
  }
 ],
 "metadata": {
  "kernelspec": {
   "display_name": "Python 3 (ipykernel)",
   "language": "python",
   "name": "python3"
  },
  "language_info": {
   "codemirror_mode": {
    "name": "ipython",
    "version": 3
   },
   "file_extension": ".py",
   "mimetype": "text/x-python",
   "name": "python",
   "nbconvert_exporter": "python",
   "pygments_lexer": "ipython3",
   "version": "3.10.8"
  }
 },
 "nbformat": 4,
 "nbformat_minor": 5
}
